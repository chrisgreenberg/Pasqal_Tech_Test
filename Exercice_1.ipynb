{
 "cells": [
  {
   "cell_type": "markdown",
   "metadata": {},
   "source": [
    "### **Problem Overview**\n",
    "\n",
    "This notebook demonstrates a probabilistic model using coin flips to explore binary outcomes. We estimate probabilities and confidence intervals using both frequentist and Bayesian approaches, comparing the results.\n",
    "\n",
    "The problem is divided into three parts:\n",
    "1. **Probability Distribution**\n",
    "2. **Simulation**: Observing the outcomes from multiple coin flips to analyze results using a biased coin.\n",
    "3. **Estimation**: Estimating an unknown probability \\( p_1 \\) based on observed data and constructing a confidence interval.\n",
    "\n",
    "Each coin has a probability \\( p_1 \\) of showing a `1` and \\( p_0 = 1 - p_1 \\) of showing a `0`.\n"
   ]
  },
  {
   "cell_type": "markdown",
   "metadata": {},
   "source": [
    "#### **Question 1.1: Probability Distribution**\n",
    "\n",
    "We model the probability of obtaining a given number of `1`s out of \\( N \\) coin flips using a **Binomial distribution**, which suits our scenario:\n",
    "- Each coin flip is an independent trial with two outcomes.\n",
    "- We seek the probability of obtaining exactly \\( k \\) successes (`1`s) in \\( N \\) trials."
   ]
  },
  {
   "cell_type": "markdown",
   "metadata": {},
   "source": [
    "#### **Question 1.2: Coin Flip Simulation**\n",
    "\n",
    "This simulation explores the empirical distribution of average outcomes when flipping multiple coins, each with a 58% chance of showing a `1`."
   ]
  },
  {
   "cell_type": "code",
   "execution_count": 17,
   "metadata": {},
   "outputs": [
    {
     "data": {
      "image/png": "[encoded data removed]",
      "text/plain": [
       "<Figure size 640x480 with 1 Axes>"
      ]
     },
     "metadata": {},
     "output_type": "display_data"
    }
   ],
   "source": [
    "import numpy as np\n",
    "import matplotlib.pyplot as plt\n",
    "\n",
    "# Parameters\n",
    "n_coins = 100         # Number of coins\n",
    "flips_per_coin = 200  # Flips per coin\n",
    "p_1 = 0.58            # Probability of flipping a 1\n",
    "\n",
    "# Simulate the number of `1`s obtained for each coin over 200 flips\n",
    "success_counts = np.random.binomial(flips_per_coin, p_1, size=n_coins)\n",
    "\n",
    "# Calculate the average number of `1`s per flip for each coin\n",
    "averages = success_counts / flips_per_coin\n",
    "\n",
    "# Plot the histogram\n",
    "plt.hist(averages, bins=10, edgecolor='black', density=True)\n",
    "plt.xlabel('Average Value of Coin Flips')\n",
    "plt.ylabel('Frequency')\n",
    "plt.title('Distribution of Average Outcomes for Each Coin Using Binomial Distribution')\n",
    "plt.show()\n"
   ]
  },
  {
   "cell_type": "markdown",
   "metadata": {},
   "source": [
    "The histogram shows that most coins have an average outcome close to the expected probability of 0.58. Variations around this mean arise from random fluctuations in each coin’s flips."
   ]
  },
  {
   "cell_type": "markdown",
   "metadata": {},
   "source": [
    "#### **Question 1.3: Estimating an Unknown Probability \\( p_1 \\)**\n",
    "\n",
    "Assuming an unknown \\( p_1 \\) for a single coin, we observed 998 `1`s out of 1000 flips. This section estimates \\( p_1 \\) and computes a confidence interval.\n",
    "\n",
    "We'll compare two different methods for the estimation of p_1: *Frequentist* and *Bayesian*"
   ]
  },
  {
   "cell_type": "code",
   "execution_count": 18,
   "metadata": {},
   "outputs": [
    {
     "name": "stdout",
     "output_type": "stream",
     "text": [
      "Estimated p_1: 0.9980\n",
      "95% Confidence Interval for p_1: (0.9952, 1.0008)\n"
     ]
    }
   ],
   "source": [
    "# Frequentist Estimation\n",
    "\n",
    "# Given data\n",
    "successes = 998\n",
    "trials = 1000\n",
    "\n",
    "# Estimate of p1\n",
    "p_hat = successes / trials\n",
    "\n",
    "# Standard error calculation\n",
    "standard_error = np.sqrt(p_hat * (1 - p_hat) / trials)\n",
    "\n",
    "# Confidence level (95%)\n",
    "z_score = 1.96\n",
    "\n",
    "# Confidence interval\n",
    "ci_lower = p_hat - z_score * standard_error\n",
    "ci_upper = p_hat + z_score * standard_error\n",
    "\n",
    "print(f\"Estimated p_1: {p_hat:.4f}\")\n",
    "print(f\"95% Confidence Interval for p_1: ({ci_lower:.4f}, {ci_upper:.4f})\")"
   ]
  },
  {
   "cell_type": "markdown",
   "metadata": {},
   "source": [
    "The frequentist method estimates \\( p_1 \\) as 0.998 with a 95% confidence interval of (0.9952, 1.0008). Note that the upper bound exceeds 1, a limitation of the normal approximation for probabilities close to 1."
   ]
  },
  {
   "cell_type": "code",
   "execution_count": 20,
   "metadata": {},
   "outputs": [
    {
     "name": "stdout",
     "output_type": "stream",
     "text": [
      "Bayesian Estimate of p_1: 0.9970\n",
      "95% Credible Interval for p_1: (0.9928, 0.9994)\n"
     ]
    }
   ],
   "source": [
    "# Bayesian Estimation\n",
    "\n",
    "from scipy.stats import beta\n",
    "\n",
    "# Bayesian Estimation with a non-informative prior <==> Beta(1,1)\n",
    "\n",
    "# Prior parameters\n",
    "alpha_prior = 1\n",
    "beta_prior = 1\n",
    "\n",
    "# Posterior parameters after observing the data\n",
    "alpha_post = alpha_prior + successes\n",
    "beta_post = beta_prior + trials - successes\n",
    "\n",
    "# Bayesian point estimate (posterior mean)\n",
    "p1_bayes_estimate = alpha_post / (alpha_post + beta_post)\n",
    "\n",
    "# 95% credible interval using the Beta distribution\n",
    "ci_lower, ci_upper = beta.ppf([0.025, 0.975], alpha_post, beta_post)\n",
    "\n",
    "print(f\"Bayesian Estimate of p_1: {p1_bayes_estimate:.4f}\")\n",
    "print(f\"95% Credible Interval for p_1: ({ci_lower:.4f}, {ci_upper:.4f})\")\n"
   ]
  },
  {
   "cell_type": "markdown",
   "metadata": {},
   "source": [
    "The Bayesian method, using a Beta distribution for the posterior, estimates \\( p_1 \\) as 0.9970 with a 95% credible interval of (0.9928, 0.9994). This interval respects the [0, 1] range, making it more reliable for probabilities near the extremes."
   ]
  },
  {
   "cell_type": "markdown",
   "metadata": {},
   "source": [
    "### Summary: Comparison of Frequentist and Bayesian Estimations for \\( p_1 \\)\n",
    "\n",
    "#### Results\n",
    "\n",
    "##### Frequentist Method\n",
    "- **Estimated \\( p_1 \\)**: 0.998\n",
    "- **95% Confidence Interval**: (0.9952, 1.0008)\n",
    "\n",
    "##### Bayesian Method\n",
    "- **Estimated \\( p_1 \\)**: 0.9970\n",
    "- **95% Credible Interval**: (0.9928, 0.9994)\n",
    "\n",
    "#### Key Observations\n",
    "\n",
    "1. **Frequentist Limitation**: The frequentist confidence interval slightly exceeds 1, which is not valid for probabilities. This is due to the limitations of the normal approximation at values near 1.\n",
    "   \n",
    "2. **Bayesian Advantage**: The Bayesian approach provides an interval constrained to [0, 1], making it more appropriate when the estimated probability is close to an extreme (near 1 in this case).\n",
    "\n",
    "#### Recommendation\n",
    "The **Bayesian method** is preferred in this scenario for its realistic and bounded interval estimation of \\( p_1 \\)."
   ]
  }
 ],
 "metadata": {
  "kernelspec": {
   "display_name": "pyth312",
   "language": "python",
   "name": "python3"
  },
  "language_info": {
   "codemirror_mode": {
    "name": "ipython",
    "version": 3
   },
   "file_extension": ".py",
   "mimetype": "text/x-python",
   "name": "python",
   "nbconvert_exporter": "python",
   "pygments_lexer": "ipython3",
   "version": "3.12.2"
  }
 },
 "nbformat": 4,
 "nbformat_minor": 2
}
